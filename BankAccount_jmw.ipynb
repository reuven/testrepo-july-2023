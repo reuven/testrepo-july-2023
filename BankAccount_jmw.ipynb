{
 "cells": [
  {
   "cell_type": "code",
   "execution_count": 1,
   "metadata": {},
   "outputs": [],
   "source": [
    "class BankAccount(object):\n",
    "    def __init__(self) -> None:\n",
    "        self.transactions = []\n",
    "\n",
    "    def deposit_money(self, deposit_amount):\n",
    "        cleaned_amount = abs(deposit_amount)\n",
    "        self.transactions.append(cleaned_amount)\n",
    "\n",
    "    def withdraw_money(self, withdraw_amount):\n",
    "        cleaned_amount = -abs(withdraw_amount)\n",
    "        self.transactions.append(cleaned_amount)\n",
    "\n",
    "    def current_balance(self):\n",
    "        return sum(self.transactions)\n",
    "\n",
    "    def transaction_count(self):\n",
    "        return len(self.transactions)\n",
    "    \n",
    "    def average_transaction_amount(self):\n",
    "        \"\"\"\n",
    "        Returns the average amount of transactions across all accounts\n",
    "        \"\"\"\n",
    "        absolute_amount_total = sum(\n",
    "            abs(transaction)\n",
    "            for transaction in self.transactions\n",
    "        )\n",
    "        return absolute_amount_total/self.transaction_count()\n",
    "    \n",
    "    def account_report(self):\n",
    "        return f'This account has {self.transaction_count()} transaction(s), an average transaction amount of {self.average_transaction_amount()}, and a current balance of {self.current_balance()}'"
   ]
  },
  {
   "cell_type": "code",
   "execution_count": 2,
   "metadata": {},
   "outputs": [],
   "source": [
    "checking_account = BankAccount()\n",
    "saving_account = BankAccount()"
   ]
  },
  {
   "cell_type": "code",
   "execution_count": 3,
   "metadata": {},
   "outputs": [
    {
     "data": {
      "text/plain": [
       "'This account has 5 transaction(s), an average transaction amount of 86.0, and a current balance of 30'"
      ]
     },
     "execution_count": 3,
     "metadata": {},
     "output_type": "execute_result"
    }
   ],
   "source": [
    "checking_account.deposit_money(100)\n",
    "checking_account.deposit_money(50)\n",
    "checking_account.deposit_money(75)\n",
    "checking_account.deposit_money(5)\n",
    "\n",
    "checking_account.withdraw_money(200)\n",
    "\n",
    "checking_account.account_report()"
   ]
  },
  {
   "cell_type": "code",
   "execution_count": 4,
   "metadata": {},
   "outputs": [
    {
     "data": {
      "text/plain": [
       "[100, 50, 75, 5, -200]"
      ]
     },
     "execution_count": 4,
     "metadata": {},
     "output_type": "execute_result"
    }
   ],
   "source": [
    "checking_account.transactions"
   ]
  },
  {
   "cell_type": "code",
   "execution_count": 5,
   "metadata": {},
   "outputs": [
    {
     "data": {
      "text/plain": [
       "'This account has 5 transaction(s), an average transaction amount of 860.0, and a current balance of 300'"
      ]
     },
     "execution_count": 5,
     "metadata": {},
     "output_type": "execute_result"
    }
   ],
   "source": [
    "saving_account.deposit_money(1000)\n",
    "saving_account.deposit_money(500)\n",
    "saving_account.deposit_money(750)\n",
    "saving_account.deposit_money(50)\n",
    "\n",
    "saving_account.withdraw_money(2000)\n",
    "\n",
    "saving_account.account_report()"
   ]
  },
  {
   "cell_type": "code",
   "execution_count": 6,
   "metadata": {},
   "outputs": [
    {
     "data": {
      "text/plain": [
       "[1000, 500, 750, 50, -2000]"
      ]
     },
     "execution_count": 6,
     "metadata": {},
     "output_type": "execute_result"
    }
   ],
   "source": [
    "saving_account.transactions"
   ]
  }
 ],
 "metadata": {
  "kernelspec": {
   "display_name": "lernerLearn",
   "language": "python",
   "name": "python3"
  },
  "language_info": {
   "codemirror_mode": {
    "name": "ipython",
    "version": 3
   },
   "file_extension": ".py",
   "mimetype": "text/x-python",
   "name": "python",
   "nbconvert_exporter": "python",
   "pygments_lexer": "ipython3",
   "version": "3.10.6"
  },
  "orig_nbformat": 4
 },
 "nbformat": 4,
 "nbformat_minor": 2
}
